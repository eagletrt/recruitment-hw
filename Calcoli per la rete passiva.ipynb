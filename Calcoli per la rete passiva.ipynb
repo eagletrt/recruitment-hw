{
 "cells": [
  {
   "cell_type": "code",
   "execution_count": 31,
   "id": "690d0339",
   "metadata": {},
   "outputs": [],
   "source": [
    "import matplotlib.pyplot as plt\n",
    "import numpy as np\n",
    "\n",
    "\n",
    "## Questo file esplicita tutti i calcoli ed i passaggi necessari al dimensionamento del\n",
    "## convertitore\n",
    "##------------------------------valori standard---------------------------------\n",
    "\n",
    "Rsen = 0.01\n",
    "\n",
    "## Array di valori di frequenze da 100KHz a 1MHz (massimo valore possibile da datasheet)\n",
    "Fs = np.arange(100000,1E6,10000)\n",
    "\n",
    "##------------------------------valori in ingresso-----------------------------------\n",
    "\n",
    "index = np.where(Fs == 3E5) # valore di frequenza in uso\n",
    "\n",
    "## Valori di tensione in ingresso, uscita e ripple [V]\n",
    "Vin_min = 11\n",
    "Vin_max = 27\n",
    "Vin_nominale = 19\n",
    "\n",
    "Vout = 5\n",
    "\n",
    "#Vripple_percentage = \n",
    "Vripple = 0.01\n",
    "\n",
    "# Resistenze Rfb1 e Rfb2 [Kohm] da decidere sapendo che Rfb2/Rfb1 = Vout/1,25 - 1\n",
    "Rfb1 = 3.3\n",
    "Rfb2 = 10\n",
    "\n",
    "## Valori di corrente massima in uscita [A] e massimo ripple stimato in percentuale o stimato\n",
    "Iout = 3\n",
    "#Ior_estimated = \n",
    "Ior_percentage = 7\n",
    "Ior_max = Ior_percentage * Iout / 100\n",
    "\n",
    "## Parametri del MOSFET e del diodo\n",
    "#tempi di ritardo del MOSFET [s]\n",
    "tdon = 29E-9\n",
    "tdoff = 115E-9\n",
    "\n",
    "#tensione di polarizzazione del diodo [V]\n",
    "Vf = 0.52\n",
    "\n",
    "\n"
   ]
  },
  {
   "cell_type": "code",
   "execution_count": 32,
   "id": "b5c6d4ae",
   "metadata": {},
   "outputs": [],
   "source": [
    "## Tempo di ritardo del MOSFET\n",
    "td = 50E-9 + tdoff - tdon\n",
    "\n",
    "## RT\n",
    "RT = Vout * (Vin_nominale - 1.56)/(1.45E-7 * Vin_nominale * Fs) -(td) * (Vin_nominale - 1.56)/(1.45E-7) - 1.4\n",
    "Fixed_RT = float(RT[index])\n",
    "\n",
    "## Ton Ton_min (il tempo Ton minimo viene calcolato al massimo valore di tensione possibile)\n",
    "## Ton viene calcolato con tensione in ingresso nominale\n",
    "## Ton_min non dovrebbe essere minore di 150 ns (Lm25085 datasheet: Current limiting)\n",
    "Ton = (1.45E-7*(RT+1.4))/(Vin_nominale-1.56+RT/3167) + 50E-9\n",
    "Ton_min = (1.45E-7*(Fixed_RT+1.4))/(Vin_max-1.56+Fixed_RT/3167) + 50E-9\n",
    "Ton_max = (1.45E-7*(Fixed_RT+1.4))/(Vin_min-1.56+Fixed_RT/3167) + 50E-9\n",
    "\n",
    "## Calcolo dell'induttanza L e valore minimo di ripple\n",
    "#L = (Ton_min*(Vin_max - Vout))/Ior_estimated\n",
    "L = (Ton_min*(Vin_max - Vout))/Ior_max\n",
    "Ior_min = ((Vin_min-Vout)*Ton_max)/L\n",
    "\n",
    "## Condensatore Cout\n",
    "Cout = Ior_max/(8*float(Fs[index])*Vripple)\n",
    "\n",
    "# Limitatore di corrente a Iout + Iripple/2\n",
    "Icl = Iout + Ior_max/2\n",
    "Radj = Rsen*Icl/32E-6\n",
    "\n",
    "#Potenza dissipata dal diodo\n",
    "D_max = Vout/Vin_min #massimo duty cycle\n",
    "Pd = Icl*Vf*(1-D_max)\n",
    "\n",
    "# R4, Cff, Cbyp, Cin\n",
    "R4 = (25E-3)/Ior_min\n",
    "Cff = (3*Ton_max)/((Rfb1*Rfb2)/(Rfb1+Rfb2))\n",
    "Cin_plus_Cbyp= Iout*Ton_max/Vripple"
   ]
  },
  {
   "cell_type": "code",
   "execution_count": 33,
   "id": "4efe6454",
   "metadata": {
    "scrolled": false
   },
   "outputs": [
    {
     "data": {
      "image/png": "[encoded data removed]",
      "text/plain": [
       "<Figure size 432x288 with 1 Axes>"
      ]
     },
     "metadata": {
      "needs_background": "light"
     },
     "output_type": "display_data"
    },
    {
     "data": {
      "image/png": "[encoded data removed]",
      "text/plain": [
       "<Figure size 432x288 with 1 Axes>"
      ]
     },
     "metadata": {
      "needs_background": "light"
     },
     "output_type": "display_data"
    },
    {
     "name": "stdout",
     "output_type": "stream",
     "text": [
      "Fs = 300000.0 Hz\n",
      "Ton = 790.0173198348273 ns\n",
      "\n",
      "Parametri della rete che compone il buck controller:\n",
      "RT = 87.7476249243799 Kohm\n",
      "Radj = 970.3125000000001 ohm\n",
      "R4 = 0.17196142387801502 ohm\n",
      "Cff = 1.711244937111655 uF\n",
      "Cin + Cbyp = 424.59460845627524 uF\n",
      "\n",
      "Filtro passa-basso e parametri utili per la scelta del diodo:\n",
      "Pd = 0.8806909090909091 W\n",
      "L = 58.4111147528555 uH\n",
      "Cout = 8.75 uF\n"
     ]
    }
   ],
   "source": [
    "#tutte le informazioni riguardo al comportamento di alcune componenti della rete passiva sono mostrate qui\n",
    "\n",
    "plt.plot(Fs,RT)\n",
    "plt.ylabel(\"RT[Kohm]\")\n",
    "plt.xlabel(\"Fs[Hz]\")\n",
    "plt.show()\n",
    "\n",
    "\n",
    "plt.plot(RT,Ton)\n",
    "plt.ylabel(\"Ton[us]\")\n",
    "plt.xlabel(\"RT[Kohm]\")\n",
    "plt.show()\n",
    "\n",
    "print(\"Fs = \" + str(float(Fs[index])) + \" Hz\")\n",
    "print(\"Ton = \" + str(float(Ton[index]*1E9)) + \" ns\\n\")\n",
    "print(\"Parametri della rete che compone il buck controller:\")\n",
    "print(\"RT = \" + str(float(RT[index])) + \" Kohm\")\n",
    "print(\"Radj = \" + str(Radj) + \" ohm\")\n",
    "print(\"R4 = \" + str(R4) + \" ohm\")\n",
    "print(\"Cff = \" + str(Cff*1E6) + \" uF\")\n",
    "print(\"Cin + Cbyp = \" + str(Cin_plus_Cbyp*1E6) + \" uF\\n\")\n",
    "print(\"Filtro passa-basso e parametri utili per la scelta del diodo:\")\n",
    "print(\"Pd = \" + str(Pd) + \" W\")\n",
    "print(\"L = \" + str(L*1E6) + \" uH\")\n",
    "print(\"Cout = \" + str(Cout*1E6) + \" uF\")\n"
   ]
  },
  {
   "cell_type": "code",
   "execution_count": null,
   "id": "d5961560",
   "metadata": {},
   "outputs": [],
   "source": []
  },
  {
   "cell_type": "code",
   "execution_count": null,
   "id": "2322bf60",
   "metadata": {},
   "outputs": [],
   "source": []
  }
 ],
 "metadata": {
  "kernelspec": {
   "display_name": "Python 3 (ipykernel)",
   "language": "python",
   "name": "python3"
  },
  "language_info": {
   "codemirror_mode": {
    "name": "ipython",
    "version": 3
   },
   "file_extension": ".py",
   "mimetype": "text/x-python",
   "name": "python",
   "nbconvert_exporter": "python",
   "pygments_lexer": "ipython3",
   "version": "3.9.7"
  }
 },
 "nbformat": 4,
 "nbformat_minor": 5
}
